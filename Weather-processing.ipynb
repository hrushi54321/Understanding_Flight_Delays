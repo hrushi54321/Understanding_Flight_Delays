{
  "nbformat": 4,
  "nbformat_minor": 0,
  "metadata": {
    "colab": {
      "name": "final.ipynb",
      "provenance": [],
      "collapsed_sections": []
    },
    "kernelspec": {
      "name": "python3",
      "display_name": "Python 3"
    },
    "language_info": {
      "name": "python"
    }
  },
  "cells": [
    {
      "cell_type": "code",
      "metadata": {
        "colab": {
          "base_uri": "https://localhost:8080/"
        },
        "id": "0np-yux2zWor",
        "outputId": "5e24e18e-aba1-4b95-cb7d-d61579b9ef75"
      },
      "source": [
        "from google.colab import drive\n",
        "\n",
        "drive.mount('/content/gdrive')"
      ],
      "execution_count": 1,
      "outputs": [
        {
          "output_type": "stream",
          "name": "stdout",
          "text": [
            "Mounted at /content/gdrive\n"
          ]
        }
      ]
    },
    {
      "cell_type": "code",
      "metadata": {
        "id": "1MwJlVeHz8Qv"
      },
      "source": [
        "dtypes= {\n",
        "\"STATION                  \" :    \"object\",\n",
        "\"DATE                     \" :    \"object\",\n",
        "\"HourlyAltimeterSetting   \" :    \"object\",\n",
        "\"HourlyDewPointTemperature\" :    \"object\",\n",
        "\"HourlyDryBulbTemperature \" :    \"object\",\n",
        "\"HourlyPrecipitation      \" :    \"object\",\n",
        "\"HourlyRelativeHumidity   \" :    \"object\",\n",
        "\"HourlySkyConditions      \" :    \"object\",\n",
        "\"HourlyStationPressure    \" :    \"object\",\n",
        "\"HourlyVisibility         \" :    \"object\",\n",
        "\"HourlyWetBulbTemperature \" :    \"object\",\n",
        "\"HourlyWindDirection      \" :    \"object\",\n",
        "\"HourlyWindSpeed          \" :    \"object\",\n",
        "\"name                     \" :    \"object\",\n",
        "\"latitude_deg             \" :    \"float64\",\n",
        "\"longitude_deg            \" :    \"float64\",\n",
        "\"iata_code                \" :    \"object\"\n",
        "}"
      ],
      "execution_count": 7,
      "outputs": []
    },
    {
      "cell_type": "code",
      "metadata": {
        "colab": {
          "base_uri": "https://localhost:8080/"
        },
        "id": "CQBxNoQcz9_N",
        "outputId": "f4799d42-b0a3-4e7b-de41-e634c669e009"
      },
      "source": [
        "import pandas as pd \n",
        "wd = pd.read_csv('/content/gdrive/MyDrive/flight-delays-data/weather-data-req.csv' , dtype = dtypes)"
      ],
      "execution_count": 9,
      "outputs": [
        {
          "output_type": "stream",
          "name": "stderr",
          "text": [
            "/usr/local/lib/python3.7/dist-packages/IPython/core/interactiveshell.py:2718: DtypeWarning: Columns (3,5,7,9,11,13) have mixed types.Specify dtype option on import or set low_memory=False.\n",
            "  interactivity=interactivity, compiler=compiler, result=result)\n"
          ]
        }
      ]
    },
    {
      "cell_type": "code",
      "metadata": {
        "id": "ly1iW09d0nFE"
      },
      "source": [
        "# Cleaning Weather Data\n",
        "\n",
        "# Removing the index Column\n",
        "wd = wd.loc[:, ~wd.columns.isin([\"Unnamed: 0\"])]\n",
        "\n",
        "#Changing Date from object to date object and adding a new column Hour\n",
        "wd[\"DATE\"] = pd.to_datetime(wd['DATE'])\n",
        "wd[\"Hour\"] = wd[\"DATE\"].apply(lambda x: x.hour)\n",
        "wd[\"DATE\"] = pd.to_datetime(wd['DATE']).dt.date\n",
        "wd[\"DATE\"] = pd.to_datetime(wd['DATE'])"
      ],
      "execution_count": 10,
      "outputs": []
    },
    {
      "cell_type": "code",
      "metadata": {
        "id": "jkEYG7iK4Vu2"
      },
      "source": [
        "# Removing unnecessary characters and filling null values with average\n",
        "import numpy as np\n",
        "def convert_dtype(col , strp):\n",
        "  wd[col] = wd[col].astype('str')\n",
        "  wd[col] = wd[col].apply(lambda x : x.strip(strp))\n",
        "  wd[col] = wd[col].apply(lambda x : np.nan if x == '' else x )\n",
        "  wd[col] = wd[col].astype('float')\n",
        "  wd[col] = wd[col].fillna(wd[col].mean())\n"
      ],
      "execution_count": 40,
      "outputs": []
    },
    {
      "cell_type": "code",
      "metadata": {
        "id": "_MuXph_R4FxR"
      },
      "source": [
        "# Preprocessing the weather data\n",
        "\n",
        "x = [\"HourlyDewPointTemperature\" , \"HourlyDryBulbTemperature\" , \"HourlyRelativeHumidity\" , \"HourlyWindSpeed\" ]\n",
        "for col in x:\n",
        "  convert_dtype(col , \"s*\")\n",
        "\n",
        "x = [\"HourlyVisibility\" , \"HourlyStationPressure\" , \"HourlyRelativeHumidity\"]\n",
        "for col in x:\n",
        "  convert_dtype(col , \"s*V\")\n"
      ],
      "execution_count": 41,
      "outputs": []
    },
    {
      "cell_type": "code",
      "metadata": {
        "id": "xWgijqIV6bxh"
      },
      "source": [
        "# Preprocessing the Weather Data\n",
        "\n",
        "wd[\"HourlyPrecipitation\"] = wd[\"HourlyPrecipitation\"].astype('str')\n",
        "wd[\"HourlyPrecipitation\"] = wd[\"HourlyPrecipitation\"].apply(lambda x : x.strip(\"sT*\"))\n",
        "wd[\"HourlyPrecipitation\"] = wd[\"HourlyPrecipitation\"].apply(lambda x : x if x.replace('.', '', 1).isdigit() else 0 )\n",
        "wd[\"HourlyPrecipitation\"] = wd[\"HourlyPrecipitation\"].astype('float')\n",
        "wd[\"HourlyPrecipitation\"] = wd[\"HourlyPrecipitation\"].fillna(wd[\"HourlyPrecipitation\"].mean())\n"
      ],
      "execution_count": 42,
      "outputs": []
    },
    {
      "cell_type": "code",
      "metadata": {
        "id": "UHuSNEjvGN9i"
      },
      "source": [
        "wd.to_csv(\"/content/gdrive/MyDrive/flight-delays-data/Weather-Final.csv\" , index = False)"
      ],
      "execution_count": null,
      "outputs": []
    },
    {
      "cell_type": "code",
      "metadata": {
        "colab": {
          "base_uri": "https://localhost:8080/"
        },
        "id": "NTzOvjvSImye",
        "outputId": "60b00783-2863-4fd4-a55a-5a4bb8581dcd"
      },
      "source": [
        "import datetime\n",
        "import pandas as pd\n",
        "df = pd.read_csv(\"/content/gdrive/MyDrive/flight-delays-data/Final.csv\" )\n",
        "df[\"CRS_DEP_TIME\"] =  df.CRS_DEP_TIME.astype(str)\n",
        "df[\"CRS_DEP_TIME\"] = df[\"CRS_DEP_TIME\"].apply( lambda t : \"0\"*(3-len(t))+t if len(t) < 3 else t )\n",
        "df[\"Departure_Hour\"] = df[\"CRS_DEP_TIME\"].apply( lambda t : datetime.datetime.strptime(t,'%H%M').strftime('%H'))\n",
        "df[\"Departure_Hour\"] = df[\"Departure_Hour\"].astype('int')"
      ],
      "execution_count": 4,
      "outputs": [
        {
          "output_type": "stream",
          "name": "stderr",
          "text": [
            "/usr/local/lib/python3.7/dist-packages/IPython/core/interactiveshell.py:2718: DtypeWarning: Columns (7,10,47,65,69,71) have mixed types.Specify dtype option on import or set low_memory=False.\n",
            "  interactivity=interactivity, compiler=compiler, result=result)\n"
          ]
        }
      ]
    },
    {
      "cell_type": "code",
      "metadata": {
        "colab": {
          "base_uri": "https://localhost:8080/",
          "height": 330
        },
        "id": "Oer-Gwg3KknG",
        "outputId": "e92973ca-8ecc-4cd6-ef39-774b64ac4260"
      },
      "source": [
        "df.head()"
      ],
      "execution_count": 5,
      "outputs": [
        {
          "output_type": "execute_result",
          "data": {
            "text/html": [
              "<div>\n",
              "<style scoped>\n",
              "    .dataframe tbody tr th:only-of-type {\n",
              "        vertical-align: middle;\n",
              "    }\n",
              "\n",
              "    .dataframe tbody tr th {\n",
              "        vertical-align: top;\n",
              "    }\n",
              "\n",
              "    .dataframe thead th {\n",
              "        text-align: right;\n",
              "    }\n",
              "</style>\n",
              "<table border=\"1\" class=\"dataframe\">\n",
              "  <thead>\n",
              "    <tr style=\"text-align: right;\">\n",
              "      <th></th>\n",
              "      <th>Unnamed: 0</th>\n",
              "      <th>Unnamed: 0.1</th>\n",
              "      <th>YEAR</th>\n",
              "      <th>MONTH</th>\n",
              "      <th>DAY_OF_MONTH</th>\n",
              "      <th>DAY_OF_WEEK</th>\n",
              "      <th>FL_DATE</th>\n",
              "      <th>MKT_UNIQUE_CARRIER</th>\n",
              "      <th>MKT_CARRIER_AIRLINE_ID</th>\n",
              "      <th>MKT_CARRIER_FL_NUM</th>\n",
              "      <th>OP_UNIQUE_CARRIER</th>\n",
              "      <th>OP_CARRIER_AIRLINE_ID</th>\n",
              "      <th>TAIL_NUM</th>\n",
              "      <th>OP_CARRIER_FL_NUM</th>\n",
              "      <th>ORIGIN_AIRPORT_ID</th>\n",
              "      <th>ORIGIN_AIRPORT_SEQ_ID</th>\n",
              "      <th>ORIGIN_CITY_MARKET_ID</th>\n",
              "      <th>ORIGIN</th>\n",
              "      <th>ORIGIN_CITY_NAME</th>\n",
              "      <th>ORIGIN_STATE_ABR</th>\n",
              "      <th>ORIGIN_STATE_NM</th>\n",
              "      <th>DEST_AIRPORT_ID</th>\n",
              "      <th>DEST_AIRPORT_SEQ_ID</th>\n",
              "      <th>DEST_CITY_MARKET_ID</th>\n",
              "      <th>DEST</th>\n",
              "      <th>DEST_CITY_NAME</th>\n",
              "      <th>DEST_STATE_ABR</th>\n",
              "      <th>DEST_STATE_NM</th>\n",
              "      <th>CRS_DEP_TIME</th>\n",
              "      <th>DEP_TIME</th>\n",
              "      <th>DEP_DELAY</th>\n",
              "      <th>DEP_DELAY_NEW</th>\n",
              "      <th>DEP_DEL15</th>\n",
              "      <th>DEP_DELAY_GROUP</th>\n",
              "      <th>DEP_TIME_BLK</th>\n",
              "      <th>TAXI_OUT</th>\n",
              "      <th>WHEELS_OFF</th>\n",
              "      <th>WHEELS_ON</th>\n",
              "      <th>TAXI_IN</th>\n",
              "      <th>CRS_ARR_TIME</th>\n",
              "      <th>ARR_TIME</th>\n",
              "      <th>ARR_DELAY</th>\n",
              "      <th>ARR_DELAY_NEW</th>\n",
              "      <th>ARR_DEL15</th>\n",
              "      <th>ARR_DELAY_GROUP</th>\n",
              "      <th>ARR_TIME_BLK</th>\n",
              "      <th>CANCELLED</th>\n",
              "      <th>CANCELLATION_CODE</th>\n",
              "      <th>DIVERTED</th>\n",
              "      <th>CRS_ELAPSED_TIME</th>\n",
              "      <th>ACTUAL_ELAPSED_TIME</th>\n",
              "      <th>AIR_TIME</th>\n",
              "      <th>FLIGHTS</th>\n",
              "      <th>DISTANCE</th>\n",
              "      <th>DISTANCE_GROUP</th>\n",
              "      <th>CARRIER_DELAY</th>\n",
              "      <th>WEATHER_DELAY</th>\n",
              "      <th>NAS_DELAY</th>\n",
              "      <th>SECURITY_DELAY</th>\n",
              "      <th>LATE_AIRCRAFT_DELAY</th>\n",
              "      <th>FIRST_DEP_TIME</th>\n",
              "      <th>TOTAL_ADD_GTIME</th>\n",
              "      <th>LONGEST_ADD_GTIME</th>\n",
              "      <th>Unnamed: 61</th>\n",
              "      <th>Unnamed: 60</th>\n",
              "      <th>BRANDED_CODE_SHARE</th>\n",
              "      <th>SCH_OP_CARRIER_FL_NUM</th>\n",
              "      <th>ORIGIN_STATE_FIPS</th>\n",
              "      <th>DEST_STATE_FIPS</th>\n",
              "      <th>DUP</th>\n",
              "      <th>Unnamed: 63</th>\n",
              "      <th>MKT_CARRIER</th>\n",
              "      <th>Unnamed: 64</th>\n",
              "      <th>Departure_Hour</th>\n",
              "    </tr>\n",
              "  </thead>\n",
              "  <tbody>\n",
              "    <tr>\n",
              "      <th>0</th>\n",
              "      <td>0</td>\n",
              "      <td>0</td>\n",
              "      <td>2021</td>\n",
              "      <td>1</td>\n",
              "      <td>23</td>\n",
              "      <td>6</td>\n",
              "      <td>2021-01-23</td>\n",
              "      <td>WN</td>\n",
              "      <td>19393</td>\n",
              "      <td>4089</td>\n",
              "      <td>WN</td>\n",
              "      <td>19393.0</td>\n",
              "      <td>N7745A</td>\n",
              "      <td>4089</td>\n",
              "      <td>11259</td>\n",
              "      <td>1125904</td>\n",
              "      <td>30194</td>\n",
              "      <td>DAL</td>\n",
              "      <td>Dallas, TX</td>\n",
              "      <td>TX</td>\n",
              "      <td>Texas</td>\n",
              "      <td>14683</td>\n",
              "      <td>1468305</td>\n",
              "      <td>33214</td>\n",
              "      <td>SAT</td>\n",
              "      <td>San Antonio, TX</td>\n",
              "      <td>TX</td>\n",
              "      <td>Texas</td>\n",
              "      <td>935</td>\n",
              "      <td>928.0</td>\n",
              "      <td>-7.0</td>\n",
              "      <td>0.0</td>\n",
              "      <td>0.0</td>\n",
              "      <td>-1.0</td>\n",
              "      <td>0900-0959</td>\n",
              "      <td>8.0</td>\n",
              "      <td>936.0</td>\n",
              "      <td>1023.0</td>\n",
              "      <td>3.0</td>\n",
              "      <td>1045</td>\n",
              "      <td>1026.0</td>\n",
              "      <td>-19.0</td>\n",
              "      <td>0.0</td>\n",
              "      <td>0.0</td>\n",
              "      <td>-2.0</td>\n",
              "      <td>1000-1059</td>\n",
              "      <td>0.0</td>\n",
              "      <td>0</td>\n",
              "      <td>0.0</td>\n",
              "      <td>70.0</td>\n",
              "      <td>58.0</td>\n",
              "      <td>47.0</td>\n",
              "      <td>1.0</td>\n",
              "      <td>247.0</td>\n",
              "      <td>1</td>\n",
              "      <td>0.0</td>\n",
              "      <td>0.0</td>\n",
              "      <td>0.0</td>\n",
              "      <td>0.0</td>\n",
              "      <td>0.0</td>\n",
              "      <td>0.0</td>\n",
              "      <td>0.0</td>\n",
              "      <td>0.0</td>\n",
              "      <td>0.0</td>\n",
              "      <td>0.0</td>\n",
              "      <td>0</td>\n",
              "      <td>0.0</td>\n",
              "      <td>0.0</td>\n",
              "      <td>0.0</td>\n",
              "      <td>0</td>\n",
              "      <td>0.0</td>\n",
              "      <td>0</td>\n",
              "      <td>0.0</td>\n",
              "      <td>9</td>\n",
              "    </tr>\n",
              "    <tr>\n",
              "      <th>1</th>\n",
              "      <td>1</td>\n",
              "      <td>1</td>\n",
              "      <td>2021</td>\n",
              "      <td>1</td>\n",
              "      <td>23</td>\n",
              "      <td>6</td>\n",
              "      <td>2021-01-23</td>\n",
              "      <td>WN</td>\n",
              "      <td>19393</td>\n",
              "      <td>3358</td>\n",
              "      <td>WN</td>\n",
              "      <td>19393.0</td>\n",
              "      <td>N8609A</td>\n",
              "      <td>3358</td>\n",
              "      <td>11259</td>\n",
              "      <td>1125904</td>\n",
              "      <td>30194</td>\n",
              "      <td>DAL</td>\n",
              "      <td>Dallas, TX</td>\n",
              "      <td>TX</td>\n",
              "      <td>Texas</td>\n",
              "      <td>14831</td>\n",
              "      <td>1483106</td>\n",
              "      <td>32457</td>\n",
              "      <td>SJC</td>\n",
              "      <td>San Jose, CA</td>\n",
              "      <td>CA</td>\n",
              "      <td>California</td>\n",
              "      <td>1440</td>\n",
              "      <td>1439.0</td>\n",
              "      <td>-1.0</td>\n",
              "      <td>0.0</td>\n",
              "      <td>0.0</td>\n",
              "      <td>-1.0</td>\n",
              "      <td>1400-1459</td>\n",
              "      <td>10.0</td>\n",
              "      <td>1449.0</td>\n",
              "      <td>1616.0</td>\n",
              "      <td>4.0</td>\n",
              "      <td>1630</td>\n",
              "      <td>1620.0</td>\n",
              "      <td>-10.0</td>\n",
              "      <td>0.0</td>\n",
              "      <td>0.0</td>\n",
              "      <td>-1.0</td>\n",
              "      <td>1600-1659</td>\n",
              "      <td>0.0</td>\n",
              "      <td>0</td>\n",
              "      <td>0.0</td>\n",
              "      <td>230.0</td>\n",
              "      <td>221.0</td>\n",
              "      <td>207.0</td>\n",
              "      <td>1.0</td>\n",
              "      <td>1450.0</td>\n",
              "      <td>6</td>\n",
              "      <td>0.0</td>\n",
              "      <td>0.0</td>\n",
              "      <td>0.0</td>\n",
              "      <td>0.0</td>\n",
              "      <td>0.0</td>\n",
              "      <td>0.0</td>\n",
              "      <td>0.0</td>\n",
              "      <td>0.0</td>\n",
              "      <td>0.0</td>\n",
              "      <td>0.0</td>\n",
              "      <td>0</td>\n",
              "      <td>0.0</td>\n",
              "      <td>0.0</td>\n",
              "      <td>0.0</td>\n",
              "      <td>0</td>\n",
              "      <td>0.0</td>\n",
              "      <td>0</td>\n",
              "      <td>0.0</td>\n",
              "      <td>14</td>\n",
              "    </tr>\n",
              "    <tr>\n",
              "      <th>2</th>\n",
              "      <td>2</td>\n",
              "      <td>2</td>\n",
              "      <td>2021</td>\n",
              "      <td>1</td>\n",
              "      <td>23</td>\n",
              "      <td>6</td>\n",
              "      <td>2021-01-23</td>\n",
              "      <td>WN</td>\n",
              "      <td>19393</td>\n",
              "      <td>1625</td>\n",
              "      <td>WN</td>\n",
              "      <td>19393.0</td>\n",
              "      <td>N290WN</td>\n",
              "      <td>1625</td>\n",
              "      <td>11259</td>\n",
              "      <td>1125904</td>\n",
              "      <td>30194</td>\n",
              "      <td>DAL</td>\n",
              "      <td>Dallas, TX</td>\n",
              "      <td>TX</td>\n",
              "      <td>Texas</td>\n",
              "      <td>14869</td>\n",
              "      <td>1486903</td>\n",
              "      <td>34614</td>\n",
              "      <td>SLC</td>\n",
              "      <td>Salt Lake City, UT</td>\n",
              "      <td>UT</td>\n",
              "      <td>Utah</td>\n",
              "      <td>1050</td>\n",
              "      <td>1044.0</td>\n",
              "      <td>-6.0</td>\n",
              "      <td>0.0</td>\n",
              "      <td>0.0</td>\n",
              "      <td>-1.0</td>\n",
              "      <td>1000-1059</td>\n",
              "      <td>8.0</td>\n",
              "      <td>1052.0</td>\n",
              "      <td>1224.0</td>\n",
              "      <td>4.0</td>\n",
              "      <td>1245</td>\n",
              "      <td>1228.0</td>\n",
              "      <td>-17.0</td>\n",
              "      <td>0.0</td>\n",
              "      <td>0.0</td>\n",
              "      <td>-2.0</td>\n",
              "      <td>1200-1259</td>\n",
              "      <td>0.0</td>\n",
              "      <td>0</td>\n",
              "      <td>0.0</td>\n",
              "      <td>175.0</td>\n",
              "      <td>164.0</td>\n",
              "      <td>152.0</td>\n",
              "      <td>1.0</td>\n",
              "      <td>999.0</td>\n",
              "      <td>4</td>\n",
              "      <td>0.0</td>\n",
              "      <td>0.0</td>\n",
              "      <td>0.0</td>\n",
              "      <td>0.0</td>\n",
              "      <td>0.0</td>\n",
              "      <td>0.0</td>\n",
              "      <td>0.0</td>\n",
              "      <td>0.0</td>\n",
              "      <td>0.0</td>\n",
              "      <td>0.0</td>\n",
              "      <td>0</td>\n",
              "      <td>0.0</td>\n",
              "      <td>0.0</td>\n",
              "      <td>0.0</td>\n",
              "      <td>0</td>\n",
              "      <td>0.0</td>\n",
              "      <td>0</td>\n",
              "      <td>0.0</td>\n",
              "      <td>10</td>\n",
              "    </tr>\n",
              "    <tr>\n",
              "      <th>3</th>\n",
              "      <td>3</td>\n",
              "      <td>3</td>\n",
              "      <td>2021</td>\n",
              "      <td>1</td>\n",
              "      <td>23</td>\n",
              "      <td>6</td>\n",
              "      <td>2021-01-23</td>\n",
              "      <td>WN</td>\n",
              "      <td>19393</td>\n",
              "      <td>4091</td>\n",
              "      <td>WN</td>\n",
              "      <td>19393.0</td>\n",
              "      <td>N7745A</td>\n",
              "      <td>4091</td>\n",
              "      <td>11259</td>\n",
              "      <td>1125904</td>\n",
              "      <td>30194</td>\n",
              "      <td>DAL</td>\n",
              "      <td>Dallas, TX</td>\n",
              "      <td>TX</td>\n",
              "      <td>Texas</td>\n",
              "      <td>14893</td>\n",
              "      <td>1489302</td>\n",
              "      <td>33192</td>\n",
              "      <td>SMF</td>\n",
              "      <td>Sacramento, CA</td>\n",
              "      <td>CA</td>\n",
              "      <td>California</td>\n",
              "      <td>1405</td>\n",
              "      <td>1404.0</td>\n",
              "      <td>-1.0</td>\n",
              "      <td>0.0</td>\n",
              "      <td>0.0</td>\n",
              "      <td>-1.0</td>\n",
              "      <td>1400-1459</td>\n",
              "      <td>8.0</td>\n",
              "      <td>1412.0</td>\n",
              "      <td>1536.0</td>\n",
              "      <td>3.0</td>\n",
              "      <td>1555</td>\n",
              "      <td>1539.0</td>\n",
              "      <td>-16.0</td>\n",
              "      <td>0.0</td>\n",
              "      <td>0.0</td>\n",
              "      <td>-2.0</td>\n",
              "      <td>1500-1559</td>\n",
              "      <td>0.0</td>\n",
              "      <td>0</td>\n",
              "      <td>0.0</td>\n",
              "      <td>230.0</td>\n",
              "      <td>215.0</td>\n",
              "      <td>204.0</td>\n",
              "      <td>1.0</td>\n",
              "      <td>1442.0</td>\n",
              "      <td>6</td>\n",
              "      <td>0.0</td>\n",
              "      <td>0.0</td>\n",
              "      <td>0.0</td>\n",
              "      <td>0.0</td>\n",
              "      <td>0.0</td>\n",
              "      <td>0.0</td>\n",
              "      <td>0.0</td>\n",
              "      <td>0.0</td>\n",
              "      <td>0.0</td>\n",
              "      <td>0.0</td>\n",
              "      <td>0</td>\n",
              "      <td>0.0</td>\n",
              "      <td>0.0</td>\n",
              "      <td>0.0</td>\n",
              "      <td>0</td>\n",
              "      <td>0.0</td>\n",
              "      <td>0</td>\n",
              "      <td>0.0</td>\n",
              "      <td>14</td>\n",
              "    </tr>\n",
              "    <tr>\n",
              "      <th>4</th>\n",
              "      <td>4</td>\n",
              "      <td>4</td>\n",
              "      <td>2021</td>\n",
              "      <td>1</td>\n",
              "      <td>23</td>\n",
              "      <td>6</td>\n",
              "      <td>2021-01-23</td>\n",
              "      <td>WN</td>\n",
              "      <td>19393</td>\n",
              "      <td>1095</td>\n",
              "      <td>WN</td>\n",
              "      <td>19393.0</td>\n",
              "      <td>N7864B</td>\n",
              "      <td>1095</td>\n",
              "      <td>11259</td>\n",
              "      <td>1125904</td>\n",
              "      <td>30194</td>\n",
              "      <td>DAL</td>\n",
              "      <td>Dallas, TX</td>\n",
              "      <td>TX</td>\n",
              "      <td>Texas</td>\n",
              "      <td>15016</td>\n",
              "      <td>1501606</td>\n",
              "      <td>31123</td>\n",
              "      <td>STL</td>\n",
              "      <td>St. Louis, MO</td>\n",
              "      <td>MO</td>\n",
              "      <td>Missouri</td>\n",
              "      <td>1415</td>\n",
              "      <td>1416.0</td>\n",
              "      <td>1.0</td>\n",
              "      <td>1.0</td>\n",
              "      <td>0.0</td>\n",
              "      <td>0.0</td>\n",
              "      <td>1400-1459</td>\n",
              "      <td>10.0</td>\n",
              "      <td>1426.0</td>\n",
              "      <td>1537.0</td>\n",
              "      <td>3.0</td>\n",
              "      <td>1555</td>\n",
              "      <td>1540.0</td>\n",
              "      <td>-15.0</td>\n",
              "      <td>0.0</td>\n",
              "      <td>0.0</td>\n",
              "      <td>-1.0</td>\n",
              "      <td>1500-1559</td>\n",
              "      <td>0.0</td>\n",
              "      <td>0</td>\n",
              "      <td>0.0</td>\n",
              "      <td>100.0</td>\n",
              "      <td>84.0</td>\n",
              "      <td>71.0</td>\n",
              "      <td>1.0</td>\n",
              "      <td>546.0</td>\n",
              "      <td>3</td>\n",
              "      <td>0.0</td>\n",
              "      <td>0.0</td>\n",
              "      <td>0.0</td>\n",
              "      <td>0.0</td>\n",
              "      <td>0.0</td>\n",
              "      <td>0.0</td>\n",
              "      <td>0.0</td>\n",
              "      <td>0.0</td>\n",
              "      <td>0.0</td>\n",
              "      <td>0.0</td>\n",
              "      <td>0</td>\n",
              "      <td>0.0</td>\n",
              "      <td>0.0</td>\n",
              "      <td>0.0</td>\n",
              "      <td>0</td>\n",
              "      <td>0.0</td>\n",
              "      <td>0</td>\n",
              "      <td>0.0</td>\n",
              "      <td>14</td>\n",
              "    </tr>\n",
              "  </tbody>\n",
              "</table>\n",
              "</div>"
            ],
            "text/plain": [
              "   Unnamed: 0  Unnamed: 0.1  YEAR  ...  MKT_CARRIER  Unnamed: 64  Departure_Hour\n",
              "0           0             0  2021  ...            0          0.0               9\n",
              "1           1             1  2021  ...            0          0.0              14\n",
              "2           2             2  2021  ...            0          0.0              10\n",
              "3           3             3  2021  ...            0          0.0              14\n",
              "4           4             4  2021  ...            0          0.0              14\n",
              "\n",
              "[5 rows x 74 columns]"
            ]
          },
          "metadata": {},
          "execution_count": 5
        }
      ]
    },
    {
      "cell_type": "code",
      "metadata": {
        "id": "B1ZeZAz9X4it"
      },
      "source": [
        "import pandas as pd \n",
        "wd = pd.read_csv('/content/gdrive/MyDrive/flight-delays-data/Weather-Final.csv' , dtype = dtypes)"
      ],
      "execution_count": 8,
      "outputs": []
    },
    {
      "cell_type": "code",
      "metadata": {
        "colab": {
          "base_uri": "https://localhost:8080/",
          "height": 297
        },
        "id": "XbneDi7jfyYa",
        "outputId": "922bba33-36c8-4525-f6cd-c67be9f83471"
      },
      "source": [
        "df[(df[\"DEP_DELAY\"] > 0)].plot.scatter( \"DEP_DELAY\" , \"ARR_DELAY\" )"
      ],
      "execution_count": 10,
      "outputs": [
        {
          "output_type": "execute_result",
          "data": {
            "text/plain": [
              "<matplotlib.axes._subplots.AxesSubplot at 0x7fdbdc020290>"
            ]
          },
          "metadata": {},
          "execution_count": 10
        },
        {
          "output_type": "display_data",
          "data": {
            "image/png": "[encoded data removed]",
            "text/plain": [
              "<Figure size 432x288 with 1 Axes>"
            ]
          },
          "metadata": {
            "needs_background": "light"
          }
        }
      ]
    },
    {
      "cell_type": "code",
      "metadata": {
        "colab": {
          "base_uri": "https://localhost:8080/",
          "height": 313
        },
        "id": "Bfol54FlGH6F",
        "outputId": "0441bea0-a292-4939-ba6a-e82d45ae981f"
      },
      "source": [
        "import matplotlib.pyplot as plt\n",
        "tmp = df[(df[\"DEP_DELAY\"] > 0)][[\"DEP_DELAY\" , \"Departure_Hour\"]].groupby(\"Departure_Hour\").mean().reset_index()\n",
        "tmp.plot.line(\"Departure_Hour\" , \"DEP_DELAY\")\n",
        "plt.title(\"Mean Flight Delays by Hour of the day\")\n",
        "plt.ylabel(\"Delay in minutes\")"
      ],
      "execution_count": 13,
      "outputs": [
        {
          "output_type": "execute_result",
          "data": {
            "text/plain": [
              "Text(0, 0.5, 'Delay in minutes')"
            ]
          },
          "metadata": {},
          "execution_count": 13
        },
        {
          "output_type": "display_data",
          "data": {
            "image/png": "[encoded data removed]",
            "text/plain": [
              "<Figure size 432x288 with 1 Axes>"
            ]
          },
          "metadata": {
            "needs_background": "light"
          }
        }
      ]
    },
    {
      "cell_type": "code",
      "metadata": {
        "colab": {
          "base_uri": "https://localhost:8080/"
        },
        "id": "_VFw5rE4_lgT",
        "outputId": "4f951b35-0c90-4be7-d842-40bfdd178fbf"
      },
      "source": [
        "df = pd.read_csv('/content/gdrive/MyDrive/flight-delays-data/Final.csv')"
      ],
      "execution_count": 66,
      "outputs": [
        {
          "output_type": "stream",
          "name": "stderr",
          "text": [
            "/usr/local/lib/python3.7/dist-packages/IPython/core/interactiveshell.py:2718: DtypeWarning: Columns (7,10,47,65,69,71) have mixed types.Specify dtype option on import or set low_memory=False.\n",
            "  interactivity=interactivity, compiler=compiler, result=result)\n"
          ]
        }
      ]
    },
    {
      "cell_type": "code",
      "metadata": {
        "colab": {
          "base_uri": "https://localhost:8080/",
          "height": 367
        },
        "id": "34Wc7TLQ5d5k",
        "outputId": "28f37fba-b97b-4a0f-9059-e38934ff88c4"
      },
      "source": [
        "res = df\n",
        "tmp = res[(res[\"DEP_DELAY\"] > 0)][[\"MONTH\", \"CARRIER_DELAY\" , \"WEATHER_DELAY\" , \"NAS_DELAY\" , \"SECURITY_DELAY\" , \"LATE_AIRCRAFT_DELAY\"]].groupby(\"MONTH\").agg(lambda x: x.ne(0).sum()).reset_index()\n",
        "\n",
        "import matplotlib.pyplot as plt\n",
        "\n",
        "c_arr = [\"red\" , \"blue\" , \"green\" , \"violet\" , \"orange\"]\n",
        "\n",
        "plt.figure(figsize=(15,5))\n",
        "plt.plot(tmp[\"MONTH\"], tmp[\"CARRIER_DELAY\"] , color = c_arr[0])\n",
        "plt.plot(tmp[\"MONTH\"], tmp[\"WEATHER_DELAY\"] , color = c_arr[1])\n",
        "plt.plot(tmp[\"MONTH\"], tmp[\"NAS_DELAY\"] , color = c_arr[2])\n",
        "plt.plot(tmp[\"MONTH\"], tmp[\"SECURITY_DELAY\"] , color = c_arr[3])\n",
        "plt.plot(tmp[\"MONTH\"], tmp[\"LATE_AIRCRAFT_DELAY\"] , color = c_arr[4])\n",
        "plt.legend(['CARRIER_DELAY', 'WEATHER_DELAY', 'NAS_DELAY', 'SECURITY_DELAY', 'LATE_AIRCRAFT_DELAY'])\n",
        "plt.xlabel(\"MONTH\")\n",
        "#plt.set_xlim(1,12)\n",
        "plt.ylabel(\"Number of Delayed Flights\")\n",
        "plt.title(\"MONTH VS Number of flights delayed of each delay type\")\n"
      ],
      "execution_count": 68,
      "outputs": [
        {
          "output_type": "execute_result",
          "data": {
            "text/plain": [
              "Text(0.5, 1.0, 'MONTH VS Number of flights delayed of each delay type')"
            ]
          },
          "metadata": {},
          "execution_count": 68
        },
        {
          "output_type": "display_data",
          "data": {
            "image/png": "[encoded data removed]",
            "text/plain": [
              "<Figure size 1080x360 with 1 Axes>"
            ]
          },
          "metadata": {
            "needs_background": "light"
          }
        }
      ]
    },
    {
      "cell_type": "code",
      "metadata": {
        "colab": {
          "base_uri": "https://localhost:8080/"
        },
        "id": "M_OO_Hf0_Q3S",
        "outputId": "bff0252b-0915-48c4-ea06-22af569f3223"
      },
      "source": [
        "import pandas as pd \n",
        "df = pd.read_csv('/content/gdrive/MyDrive/flight-delays-data/Cities/ATL.csv' , dtype = dtypes)\n",
        "res = pd.merge(df, wd ,  how='left', left_on=['FL_DATE','ORIGIN' , 'Departure_Hour'], right_on = ['DATE','iata_code' , 'Hour'])"
      ],
      "execution_count": 98,
      "outputs": [
        {
          "output_type": "stream",
          "name": "stderr",
          "text": [
            "/usr/local/lib/python3.7/dist-packages/IPython/core/interactiveshell.py:2718: DtypeWarning: Columns (7,10,47,65,69,71) have mixed types.Specify dtype option on import or set low_memory=False.\n",
            "  interactivity=interactivity, compiler=compiler, result=result)\n"
          ]
        }
      ]
    },
    {
      "cell_type": "code",
      "metadata": {
        "colab": {
          "base_uri": "https://localhost:8080/",
          "height": 313
        },
        "id": "8eTwXGZbVni8",
        "outputId": "a961813d-4456-4bb9-af11-55a6e4b47eda"
      },
      "source": [
        "tmp = df[(df[\"DEP_DELAY\"] > 0)][[\"DEP_DELAY\" , \"Departure_Hour\"]].groupby(\"Departure_Hour\").mean().reset_index()\n",
        "tmp.plot.line(\"Departure_Hour\" , \"DEP_DELAY\")\n",
        "plt.title(\"Mean Flight Delays by Hour of the day\")\n",
        "plt.ylabel(\"Delay in minutes\")"
      ],
      "execution_count": 175,
      "outputs": [
        {
          "output_type": "execute_result",
          "data": {
            "text/plain": [
              "Text(0, 0.5, 'Delay in minutes')"
            ]
          },
          "metadata": {},
          "execution_count": 175
        },
        {
          "output_type": "display_data",
          "data": {
            "image/png": "[encoded data removed]",
            "text/plain": [
              "<Figure size 432x288 with 1 Axes>"
            ]
          },
          "metadata": {
            "needs_background": "light"
          }
        }
      ]
    },
    {
      "cell_type": "code",
      "metadata": {
        "id": "8ZsGDimFZAve"
      },
      "source": [
        "def split_by_WindSpeed(row):\n",
        "  global groups\n",
        "  mn = int(row[\"HourlyWindSpeed\"] / 5)\n",
        "  mx  = (mn+1) * 5\n",
        "  return str(mn * 5) + \" , \" + str(mx)\n",
        "\n",
        "res.sort_values(by=['HourlyWindSpeed'])\n",
        "res[\"Speed_Cat\"] = res.apply(lambda row: split_by_WindSpeed(row) , axis = 1 )\n"
      ],
      "execution_count": 208,
      "outputs": []
    },
    {
      "cell_type": "code",
      "metadata": {
        "colab": {
          "base_uri": "https://localhost:8080/",
          "height": 337
        },
        "id": "EHDElMPGasar",
        "outputId": "d6d80265-68b8-4b14-dd20-06ffb0cabe49"
      },
      "source": [
        "tmp = res[(res[\"DEP_DELAY\"] > 0)][[\"DEP_DELAY\" , \"Speed_Cat\"]].groupby(\"Speed_Cat\").mean().reset_index()\n",
        "tmp.plot.bar(\"Speed_Cat\" , \"DEP_DELAY\")\n",
        "plt.title(\"Mean Flight Dealys by Hourly wind speed in MPH\")\n",
        "plt.ylabel(\"Delay in minutes\")\n",
        "plt.xlabel(\"Speed\")"
      ],
      "execution_count": 209,
      "outputs": [
        {
          "output_type": "execute_result",
          "data": {
            "text/plain": [
              "Text(0.5, 0, 'Speed')"
            ]
          },
          "metadata": {},
          "execution_count": 209
        },
        {
          "output_type": "display_data",
          "data": {
            "image/png": "[encoded data removed]",
            "text/plain": [
              "<Figure size 432x288 with 1 Axes>"
            ]
          },
          "metadata": {
            "needs_background": "light"
          }
        }
      ]
    },
    {
      "cell_type": "code",
      "metadata": {
        "id": "q73KWzgybw8X"
      },
      "source": [
        "def split_by_Visibility(row):\n",
        "  mn = int(row[\"HourlyVisibility\"])\n",
        "  #mx  = (mn+1) * 5\n",
        "  return mn#str(mn) + \" , \" + str(mn+1)\n",
        "\n",
        "res = res.sort_values(by=['HourlyVisibility'])\n",
        "res[\"Visibility_cat\"] = res.apply(lambda row: split_by_Visibility(row) , axis = 1 )\n",
        "#res = res.sort_values(by=['Visibility_cat'])\n"
      ],
      "execution_count": 165,
      "outputs": []
    },
    {
      "cell_type": "code",
      "metadata": {
        "colab": {
          "base_uri": "https://localhost:8080/",
          "height": 315
        },
        "id": "aoc615NdcHMU",
        "outputId": "335a0052-ef77-4de5-b2eb-f2211cb307b8"
      },
      "source": [
        "tmp = res[(res[\"DEP_DELAY\"] > 0) ][[\"DEP_DELAY\" , \"Visibility_cat\"]].groupby(\"Visibility_cat\").mean().reset_index()\n",
        "tmp.plot.bar(\"Visibility_cat\" , \"DEP_DELAY\")\n",
        "plt.title(\"Mean Flight Delays by Hourly Visibility in Nautical Miles\")\n",
        "plt.ylabel(\"Delay in minutes\")\n",
        "plt.xlabel(\"Visibility\")"
      ],
      "execution_count": 178,
      "outputs": [
        {
          "output_type": "execute_result",
          "data": {
            "text/plain": [
              "Text(0.5, 0, 'Visibility')"
            ]
          },
          "metadata": {},
          "execution_count": 178
        },
        {
          "output_type": "display_data",
          "data": {
            "image/png": "[encoded data removed]",
            "text/plain": [
              "<Figure size 432x288 with 1 Axes>"
            ]
          },
          "metadata": {
            "needs_background": "light"
          }
        }
      ]
    },
    {
      "cell_type": "code",
      "metadata": {
        "colab": {
          "base_uri": "https://localhost:8080/",
          "height": 318
        },
        "id": "p7Rp3pDOevG1",
        "outputId": "056c6b54-a05e-45a5-9969-206d2c7aee5f"
      },
      "source": [
        "def split_by_Precipitation(row):\n",
        "  mn = (int(row[\"HourlyPrecipitation\"] * 10 ) - 1) / 10\n",
        "  if mn < 0:\n",
        "    mn = 0\n",
        "  #mx  = (mn+1) * 5\n",
        "  return mn#str(mn) + \" , \" + str(mn+1)\n",
        "\n",
        "res = res.sort_values(by=['HourlyPrecipitation'])\n",
        "res[\"HourlyPrecipitation_Cat\"] = res.apply(lambda row: split_by_Precipitation(row) , axis = 1 )\n",
        "#res = res.sort_values(by=['Visibility_cat'])\n",
        "\n",
        "tmp = res[(res[\"DEP_DELAY\"] > 0) &  ( res[\"WEATHER_DELAY\"] > 0 ) ][[\"DEP_DELAY\" , \"HourlyPrecipitation_Cat\"]].groupby(\"HourlyPrecipitation_Cat\").mean().reset_index()\n",
        "tmp.plot.bar(\"HourlyPrecipitation_Cat\" , \"DEP_DELAY\")\n",
        "plt.title(\"Mean Flight Delays by Hourly Precipitation in inches\")\n",
        "plt.ylabel(\"Delay in minutes\")\n",
        "plt.xlabel(\"Precipitation\")"
      ],
      "execution_count": 177,
      "outputs": [
        {
          "output_type": "execute_result",
          "data": {
            "text/plain": [
              "Text(0.5, 0, 'Precipitation')"
            ]
          },
          "metadata": {},
          "execution_count": 177
        },
        {
          "output_type": "display_data",
          "data": {
            "image/png": "[encoded data removed]",
            "text/plain": [
              "<Figure size 432x288 with 1 Axes>"
            ]
          },
          "metadata": {
            "needs_background": "light"
          }
        }
      ]
    }
  ]
}